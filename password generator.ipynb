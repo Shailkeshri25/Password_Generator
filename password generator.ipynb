{
 "cells": [
  {
   "cell_type": "code",
   "execution_count": null,
   "id": "2cdf6406",
   "metadata": {},
   "outputs": [],
   "source": [
    "import random\n",
    "import string\n",
    "import tkinter as tk\n",
    "from tkinter import ttk\n",
    "\n",
    "def generate_password():\n",
    "    length = int(length_entry.get())\n",
    "    \n",
    "    letters = string.ascii_letters\n",
    "    digits = string.digits\n",
    "    special_characters = \"!@#$%^&*()_-+=<>?/[]{}|\"\n",
    "    all_characters = letters + digits + special_characters\n",
    "\n",
    "    password = ''.join(random.choice(all_characters) for _ in range(length))\n",
    "    \n",
    "    result_label.config(text=\"Generated Password: \" + password)\n",
    "\n",
    "# Create a GUI window\n",
    "root = tk.Tk()\n",
    "root.title(\"Password Generator\")\n",
    "\n",
    "# Change the background color of the main window\n",
    "root.configure(bg=\"light gray\")  # Set the desired background color here\n",
    "\n",
    "# Create and configure GUI elements\n",
    "length_label = ttk.Label(root, text=\"Password Length:\")\n",
    "length_label.grid(row=0, column=0, padx=10, pady=10, sticky=\"e\")\n",
    "\n",
    "length_entry = ttk.Entry(root)\n",
    "length_entry.grid(row=0, column=1, padx=10, pady=10)\n",
    "\n",
    "generate_button = ttk.Button(root, text=\"Generate Password\", command=generate_password)\n",
    "generate_button.grid(row=0, column=2, padx=10, pady=10)\n",
    "\n",
    "result_label = ttk.Label(root, text=\"\")\n",
    "result_label.grid(row=1, column=0, columnspan=3, padx=10, pady=10)\n",
    "\n",
    "# Center the elements vertically and horizontally\n",
    "root.grid_rowconfigure(0, weight=1)\n",
    "root.grid_columnconfigure(0, weight=1)\n",
    "root.grid_rowconfigure(1, weight=1)\n",
    "root.grid_columnconfigure(1, weight=1)\n",
    "root.grid_columnconfigure(2, weight=1)\n",
    "\n",
    "# Start the GUI event loop\n",
    "root.mainloop()\n"
   ]
  },
  {
   "cell_type": "code",
   "execution_count": null,
   "id": "8ba0ba88",
   "metadata": {},
   "outputs": [],
   "source": []
  }
 ],
 "metadata": {
  "kernelspec": {
   "display_name": "Python 3 (ipykernel)",
   "language": "python",
   "name": "python3"
  },
  "language_info": {
   "codemirror_mode": {
    "name": "ipython",
    "version": 3
   },
   "file_extension": ".py",
   "mimetype": "text/x-python",
   "name": "python",
   "nbconvert_exporter": "python",
   "pygments_lexer": "ipython3",
   "version": "3.9.13"
  }
 },
 "nbformat": 4,
 "nbformat_minor": 5
}
